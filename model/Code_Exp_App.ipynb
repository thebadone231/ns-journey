{
  "cells": [
    {
      "cell_type": "code",
      "execution_count": null,
      "metadata": {
        "id": "-MuPqhyxaIn-"
      },
      "outputs": [],
      "source": [
        "# Install PyTorch\n",
        "!pip install torch==1.8.1+cu111 torchvision==0.9.1+cu111 torchaudio===0.8.1 -f https://download.pytorch.org/whl/lts/1.8/torch_lts.html"
      ]
    },
    {
      "cell_type": "code",
      "execution_count": null,
      "metadata": {
        "id": "NTNz4DO1v0dx"
      },
      "outputs": [],
      "source": [
        "# Clone yolov5 repo by ultralytics\n",
        "!git clone https://github.com/ultralytics/yolov5"
      ]
    },
    {
      "cell_type": "code",
      "execution_count": null,
      "metadata": {
        "id": "POiVVnjjv3D0"
      },
      "outputs": [],
      "source": [
        "# Install required dependencies\n",
        "!cd yolov5 & pip install -r /content/yolov5/requirements.txt\n",
        "\n",
        "!pip install pyqt5 lxml --upgrade\n",
        "!cd labelImg && pyrcc5 -o libs/resources.py resources.qrc"
      ]
    },
    {
      "cell_type": "code",
      "execution_count": null,
      "metadata": {
        "id": "t1NW-8lgv6tf"
      },
      "outputs": [],
      "source": [
        "# Train model (File paths may be different)\n",
        "!python /yolov5/train.py --img 16 --batch 32 --epochs 400 --data /yolov5/dataset.yaml --weights yolov5x.pt"
      ]
    }
  ],
  "metadata": {
    "colab": {
      "collapsed_sections": [],
      "name": "Code_Exp App.ipynb",
      "provenance": []
    },
    "kernelspec": {
      "display_name": "Python 3",
      "name": "python3"
    },
    "language_info": {
      "name": "python"
    }
  },
  "nbformat": 4,
  "nbformat_minor": 0
}
